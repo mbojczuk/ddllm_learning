{
 "cells": [
  {
   "cell_type": "code",
   "execution_count": 1,
   "metadata": {},
   "outputs": [],
   "source": [
    "import trino\n",
    "from trino import dbapi\n",
    "import random\n",
    "from datetime import datetime, timedelta\n",
    "import faker"
   ]
  },
  {
   "cell_type": "code",
   "execution_count": 3,
   "metadata": {},
   "outputs": [
    {
     "name": "stdout",
     "output_type": "stream",
     "text": [
      "Table 'accounts' created successfully.\n",
      "20 records inserted into 'accounts' table successfully.\n"
     ]
    }
   ],
   "source": [
    "conn = trino.dbapi.connect(\n",
    "    host='localhost',\n",
    "    port=8080,\n",
    "    user='dbt-trino',\n",
    "    catalog='postgresql',\n",
    "    schema='public',\n",
    ")\n",
    "cur = conn.cursor()\n",
    "\n",
    "# Step 1: Create the accounts table\n",
    "create_table_query = \"\"\"\n",
    "CREATE TABLE IF NOT EXISTS accounts (\n",
    "    account_id INT,\n",
    "    first_name VARCHAR,\n",
    "    last_name VARCHAR,\n",
    "    address VARCHAR,\n",
    "    email VARCHAR,\n",
    "    mobile VARCHAR,\n",
    "    start_date DATE\n",
    ")\n",
    "\"\"\"\n",
    "cur.execute(create_table_query)\n",
    "print(\"Table 'accounts' created successfully.\")\n",
    "\n",
    "# Step 2: Insert mock data into the accounts table\n",
    "fake = faker.Faker()\n",
    "num_records = 20  # Adjust the number of records as needed\n",
    "insert_query = \"\"\"\n",
    "INSERT INTO accounts (account_id, first_name, last_name, address, email, mobile, start_date)\n",
    "VALUES (?, ?, ?, ?, ?, ?, ?)\n",
    "\"\"\"\n",
    "\n",
    "for i in range(1, num_records + 1):\n",
    "    account_id = i\n",
    "    first_name = fake.first_name()\n",
    "    last_name = fake.last_name()\n",
    "    address = fake.address().replace(\"\\n\", \", \")\n",
    "    email = fake.email()\n",
    "    mobile = fake.phone_number()\n",
    "    start_date = (datetime.now() - timedelta(days=30)).date()\n",
    "\n",
    "    cur.execute(\n",
    "        insert_query,\n",
    "        [\n",
    "            account_id,\n",
    "            first_name,\n",
    "            last_name,\n",
    "            address,\n",
    "            email,\n",
    "            mobile,\n",
    "            start_date\n",
    "        ]\n",
    "    )\n",
    "\n",
    "print(f\"{num_records} records inserted into 'accounts' table successfully.\")\n",
    "\n",
    "# Close the cursor and connection\n",
    "cur.close()\n",
    "conn.close()"
   ]
  },
  {
   "cell_type": "code",
   "execution_count": null,
   "metadata": {},
   "outputs": [
    {
     "name": "stdout",
     "output_type": "stream",
     "text": [
      "Table 'transactions' created successfully.\n",
      "10 records inserted into 'transactions' table successfully.\n"
     ]
    }
   ],
   "source": [
    "# Establish connection\n",
    "conn = trino.dbapi.connect(\n",
    "    host='localhost',\n",
    "    port=8080,\n",
    "    user='dbt-trino',\n",
    "    catalog='postgresql',\n",
    "    schema='public',\n",
    ")\n",
    "cur = conn.cursor()\n",
    "\n",
    "# Step 1: Create the transactions table\n",
    "create_table_query = \"\"\"\n",
    "CREATE TABLE IF NOT EXISTS transactions (\n",
    "    transaction_id INT,\n",
    "    account_id INT,\n",
    "    transaction_date TIMESTAMP,\n",
    "    amount DECIMAL,\n",
    "    transaction_type VARCHAR,\n",
    "    description VARCHAR,\n",
    "    start_time TIMESTAMP,\n",
    ")\n",
    "\"\"\"\n",
    "cur.execute(create_table_query)\n",
    "print(\"Table 'transactions' created successfully.\")\n",
    "\n",
    "# Step 2: Insert mock data into the transactions table\n",
    "fake = faker.Faker()\n",
    "num_records = 10  # Adjust the number of records as needed\n",
    "insert_query = \"\"\"\n",
    "INSERT INTO transactions (transaction_id, account_id, transaction_date, amount, transaction_type, description, start_time)\n",
    "VALUES (?, ?, ?, ?, ?, ?, ?)\n",
    "\"\"\"\n",
    "\n",
    "for i in range(1, num_records + 1):\n",
    "    transaction_id = i\n",
    "    account_id = fake.random_int(min=1, max=10)  # Assuming accounts with IDs 1-10 exist\n",
    "    transaction_date = datetime.now() - timedelta(days=fake.random_int(min=2, max=5))\n",
    "    amount = round(fake.random_number(digits=4), 2)\n",
    "    transaction_type = fake.random_element(elements=('credit', 'debit'))\n",
    "    description = fake.sentence()\n",
    "    start_time = datetime.now() - timedelta(days=0)\n",
    "    end_time = None  # Transactions are \"active\"\n",
    "    delete_flag = False\n",
    "    load_timestamp = datetime.now() + timedelta(days=1)\n",
    "\n",
    "    cur.execute(\n",
    "        insert_query,\n",
    "        [\n",
    "            transaction_id,\n",
    "            account_id,\n",
    "            transaction_date,\n",
    "            amount,\n",
    "            transaction_type,\n",
    "            description,\n",
    "            start_time,\n",
    "            end_time,\n",
    "            delete_flag,\n",
    "            load_timestamp\n",
    "        ]\n",
    "    )\n",
    "\n",
    "print(f\"{num_records} records inserted into 'transactions' table successfully.\")\n"
   ]
  },
  {
   "cell_type": "code",
   "execution_count": null,
   "metadata": {},
   "outputs": [
    {
     "data": {
      "text/plain": [
       "datetime.datetime(2024, 11, 2, 14, 9, 32, 580068)"
      ]
     },
     "execution_count": 7,
     "metadata": {},
     "output_type": "execute_result"
    }
   ],
   "source": []
  },
  {
   "cell_type": "code",
   "execution_count": null,
   "metadata": {},
   "outputs": [
    {
     "name": "stdout",
     "output_type": "stream",
     "text": [
      "10 records inserted into 'accounts' table successfully.\n"
     ]
    }
   ],
   "source": []
  },
  {
   "cell_type": "code",
   "execution_count": null,
   "metadata": {},
   "outputs": [],
   "source": []
  },
  {
   "cell_type": "code",
   "execution_count": null,
   "metadata": {},
   "outputs": [],
   "source": []
  }
 ],
 "metadata": {
  "kernelspec": {
   "display_name": "venv",
   "language": "python",
   "name": "python3"
  },
  "language_info": {
   "codemirror_mode": {
    "name": "ipython",
    "version": 3
   },
   "file_extension": ".py",
   "mimetype": "text/x-python",
   "name": "python",
   "nbconvert_exporter": "python",
   "pygments_lexer": "ipython3",
   "version": "3.12.2"
  }
 },
 "nbformat": 4,
 "nbformat_minor": 2
}
